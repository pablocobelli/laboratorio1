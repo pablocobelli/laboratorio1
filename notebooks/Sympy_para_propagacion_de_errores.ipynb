{
  "nbformat": 4,
  "nbformat_minor": 0,
  "metadata": {
    "colab": {
      "provenance": []
    },
    "kernelspec": {
      "name": "python3",
      "display_name": "Python 3"
    },
    "language_info": {
      "name": "python"
    }
  },
  "cells": [
    {
      "cell_type": "markdown",
      "source": [
        "# Ejemplo de uso de Sympy para propagacion de errores"
      ],
      "metadata": {
        "id": "ZMgH36C2rSA6"
      }
    },
    {
      "cell_type": "markdown",
      "source": [
        "Supongamos que buscamos determinar la aceleracion gravitatoria local (medida indirectamente) a partir de mediciones directas de la longitud $L$ y periodo $\\tau$ de un péndulo simple. En ese caso usaremos la ecuacion:\n"
      ],
      "metadata": {
        "id": "lBNwzC-prZ0i"
      }
    },
    {
      "cell_type": "markdown",
      "source": [
        "$ g = \\frac{4 \\pi L}{\\tau^2} $ "
      ],
      "metadata": {
        "id": "mZVwAZBBQ466"
      }
    },
    {
      "cell_type": "markdown",
      "source": [
        "pensando $g$ como una funcion de *tres* parametros: $\\pi$, $L$ y $\\tau$. "
      ],
      "metadata": {
        "id": "cj6HV3R7reaC"
      }
    },
    {
      "cell_type": "markdown",
      "source": [
        "La propagacion de errores que vimos en clase nos dice que:\n",
        "\n",
        "$$\n",
        "\\sigma_V = \\sqrt{ \\left( \\frac{dg}{dL} \\right)^2_{(\\bar{\\pi}, \\bar{L}, \\bar{\\tau})} \\sigma^2_L + \\left( \\frac{dg}{d\\tau} \\right)^2_{(\\bar{\\pi}, \\bar{L}, \\bar{\\tau})} \\sigma^2_\\tau + \\left( \\frac{dg}{d\\pi} \\right)^2_{(\\bar{\\pi}, \\bar{L}, \\bar{\\tau})} \\sigma^2_\\pi } \n",
        "$$"
      ],
      "metadata": {
        "id": "UBigmbEysOs7"
      }
    },
    {
      "cell_type": "markdown",
      "source": [
        "Para calcular esas derivadas (o para chequear nuestros propios calculos) puede resultar util disponer de una herramienta de calculo simbolico. En nuestro caso, esa herramienta es el modulo `Sympy` de `Python`. "
      ],
      "metadata": {
        "id": "OL4g3O-Gth8z"
      }
    },
    {
      "cell_type": "markdown",
      "source": [
        "----"
      ],
      "metadata": {
        "id": "fYWsb4V-umt3"
      }
    },
    {
      "cell_type": "markdown",
      "source": [
        "Para eso cargamos el paquete:"
      ],
      "metadata": {
        "id": "_JMAcrCNuEDF"
      }
    },
    {
      "cell_type": "code",
      "execution_count": 12,
      "metadata": {
        "id": "_a6p9T76YHo-"
      },
      "outputs": [],
      "source": [
        "import sympy as sp"
      ]
    },
    {
      "cell_type": "markdown",
      "source": [
        "Definimos los simbolos que vamos a utilizar en nuestros calculos"
      ],
      "metadata": {
        "id": "mTK3WlCSuHSY"
      }
    },
    {
      "cell_type": "code",
      "source": [
        "L, tau, Pi = sp.symbols('L, tau, Pi')"
      ],
      "metadata": {
        "id": "bP6inOsNalqn"
      },
      "execution_count": 13,
      "outputs": []
    },
    {
      "cell_type": "markdown",
      "source": [
        "Y de esta forma, usando la funcion `diff` accedemos a la derivada. Fijensé (debajo) que el primer argumento es la funcion que queremos derivar y el segundo es la variable respecto de la cual estamos derivando."
      ],
      "metadata": {
        "id": "SBOCH8b4uKgY"
      }
    },
    {
      "cell_type": "markdown",
      "source": [
        "En este caso, las 3 derivadas de interés son: una respecto de $L$, otra respecto de $\\tau$ y la ultima respecto de $\\pi$."
      ],
      "metadata": {
        "id": "A6qffpevuV4g"
      }
    },
    {
      "cell_type": "code",
      "source": [
        "sp.diff(4*Pi*L/tau**2, L)"
      ],
      "metadata": {
        "id": "IsgDi6fCYhR-",
        "colab": {
          "base_uri": "https://localhost:8080/",
          "height": 53
        },
        "outputId": "500ceff5-0657-4182-b0ae-9917d510265d"
      },
      "execution_count": 14,
      "outputs": [
        {
          "output_type": "execute_result",
          "data": {
            "text/plain": [
              "4*Pi\n",
              "----\n",
              "   2\n",
              "tau "
            ],
            "text/latex": "$\\displaystyle \\frac{4 \\Pi}{\\tau^{2}}$"
          },
          "metadata": {},
          "execution_count": 14
        }
      ]
    },
    {
      "cell_type": "code",
      "source": [
        "sp.diff(4*Pi*L/tau**2, Pi)"
      ],
      "metadata": {
        "id": "1iq7FNi5r-d-",
        "colab": {
          "base_uri": "https://localhost:8080/",
          "height": 53
        },
        "outputId": "3e0f0408-1886-4e88-9157-9fe75aa6a9ed"
      },
      "execution_count": 15,
      "outputs": [
        {
          "output_type": "execute_result",
          "data": {
            "text/plain": [
              "4*L \n",
              "----\n",
              "   2\n",
              "tau "
            ],
            "text/latex": "$\\displaystyle \\frac{4 L}{\\tau^{2}}$"
          },
          "metadata": {},
          "execution_count": 15
        }
      ]
    },
    {
      "cell_type": "code",
      "source": [
        "sp.diff(4*Pi*L/tau**2, tau)"
      ],
      "metadata": {
        "colab": {
          "base_uri": "https://localhost:8080/",
          "height": 53
        },
        "id": "8F5G5CwiQrYr",
        "outputId": "ac49bd35-7bbc-4dd7-da6a-5872cefef158"
      },
      "execution_count": 16,
      "outputs": [
        {
          "output_type": "execute_result",
          "data": {
            "text/plain": [
              "-8*L*Pi \n",
              "--------\n",
              "     3  \n",
              "  tau   "
            ],
            "text/latex": "$\\displaystyle - \\frac{8 L \\Pi}{\\tau^{3}}$"
          },
          "metadata": {},
          "execution_count": 16
        }
      ]
    },
    {
      "cell_type": "markdown",
      "source": [
        "Para mas informacion acerca de las capacidades de `Sympy`\n",
        ", no duden en consultar su [documentacion on-line](https://docs.sympy.org/latest/index.html), en donde podran ademas consultar ejemplos y tutoriales de uso aplicados al calculo de integrales, simplificacion de expresiones, etc. "
      ],
      "metadata": {
        "id": "RU0rHUebtw_F"
      }
    }
  ]
}