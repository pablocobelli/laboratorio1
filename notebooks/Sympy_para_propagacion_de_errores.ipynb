{
 "cells": [
  {
   "cell_type": "markdown",
   "id": "c67ce16a-058e-4614-8022-8b508b79d1ab",
   "metadata": {
    "collapsed": false,
    "id": "ZMgH36C2rSA6"
   },
   "source": [
    "# Ejemplo de uso de Sympy para propagacion de errores"
   ]
  },
  {
   "cell_type": "markdown",
   "id": "8a1a6e29-f43d-40e9-8aa2-6511687a978c",
   "metadata": {
    "collapsed": false,
    "id": "lBNwzC-prZ0i"
   },
   "source": [
    "Supongamos que buscamos determinar la aceleracion gravitatoria local (medida indirectamente) a partir de mediciones directas de la longitud $L$ y periodo $\\tau$ de un péndulo simple. En ese caso usaremos la ecuacion:\n"
   ]
  },
  {
   "cell_type": "markdown",
   "id": "7d6899e8-e803-4a57-9466-1eb346dce68b",
   "metadata": {
    "collapsed": false,
    "id": "mZVwAZBBQ466"
   },
   "source": [
    "$ g = \\frac{4 \\pi L}{\\tau^2} $ "
   ]
  },
  {
   "cell_type": "markdown",
   "id": "fa014aa8-d977-48e4-8e24-e78579418fd7",
   "metadata": {
    "collapsed": false,
    "id": "cj6HV3R7reaC"
   },
   "source": [
    "pensando $g$ como una funcion de *tres* parametros: $\\pi$, $L$ y $\\tau$. "
   ]
  },
  {
   "cell_type": "markdown",
   "id": "5aea47d8-7905-4f3b-873c-8e801613fdc1",
   "metadata": {
    "collapsed": false,
    "id": "UBigmbEysOs7"
   },
   "source": [
    "La propagacion de errores que vimos en clase nos dice que:\n",
    "\n",
    "$$\n",
    "\\sigma_V = \\sqrt{ \\left( \\frac{dg}{dL} \\right)^2_{(\\bar{\\pi}, \\bar{L}, \\bar{\\tau})} \\sigma^2_L + \\left( \\frac{dg}{d\\tau} \\right)^2_{(\\bar{\\pi}, \\bar{L}, \\bar{\\tau})} \\sigma^2_\\tau + \\left( \\frac{dg}{d\\pi} \\right)^2_{(\\bar{\\pi}, \\bar{L}, \\bar{\\tau})} \\sigma^2_\\pi } \n",
    "$$"
   ]
  },
  {
   "cell_type": "markdown",
   "id": "95ef6bdd-5633-431b-93b6-ad4a88f1a500",
   "metadata": {
    "collapsed": false,
    "id": "OL4g3O-Gth8z"
   },
   "source": [
    "Para calcular esas derivadas (o para chequear nuestros propios calculos) puede resultar util disponer de una herramienta de calculo simbolico. En nuestro caso, esa herramienta es el modulo `Sympy` de `Python`. "
   ]
  },
  {
   "cell_type": "markdown",
   "id": "dd3e6130-4f5c-4f5d-9f84-f04d3839a8e4",
   "metadata": {
    "collapsed": false,
    "id": "fYWsb4V-umt3"
   },
   "source": [
    "----"
   ]
  },
  {
   "cell_type": "markdown",
   "id": "31b2f08e-54b3-441c-aad4-e4e8eefa5eb7",
   "metadata": {
    "collapsed": false,
    "id": "_JMAcrCNuEDF"
   },
   "source": [
    "Para eso cargamos el paquete:"
   ]
  },
  {
   "cell_type": "code",
   "execution_count": null,
   "id": "6520412b-8948-40d9-a7f7-88c3d1f8ac18",
   "metadata": {
    "collapsed": false,
    "id": "_a6p9T76YHo-"
   },
   "outputs": [],
   "source": [
    "import sympy as sp"
   ]
  },
  {
   "cell_type": "markdown",
   "id": "9d48a6b4-4797-48e0-b3a6-9e53b01232ed",
   "metadata": {
    "collapsed": false,
    "id": "mTK3WlCSuHSY"
   },
   "source": [
    "Definimos los simbolos que vamos a utilizar en nuestros calculos"
   ]
  },
  {
   "cell_type": "code",
   "execution_count": null,
   "id": "c831ca55-67c4-420c-9713-aaf30919eaf5",
   "metadata": {
    "collapsed": false,
    "id": "bP6inOsNalqn"
   },
   "outputs": [],
   "source": [
    "L, tau, Pi = sp.symbols('L, tau, Pi')"
   ]
  },
  {
   "cell_type": "markdown",
   "id": "b9c843e3-d80f-4357-a216-69e8098b6153",
   "metadata": {
    "collapsed": false,
    "id": "SBOCH8b4uKgY"
   },
   "source": [
    "Y de esta forma, usando la funcion `diff` accedemos a la derivada. Fijensé (debajo) que el primer argumento es la funcion que queremos derivar y el segundo es la variable respecto de la cual estamos derivando."
   ]
  },
  {
   "cell_type": "markdown",
   "id": "3ec43893-26f6-4151-9f6a-2c7b7e9ef395",
   "metadata": {
    "collapsed": false,
    "id": "A6qffpevuV4g"
   },
   "source": [
    "En este caso, las 3 derivadas de interés son: una respecto de $L$, otra respecto de $\\tau$ y la ultima respecto de $\\pi$."
   ]
  },
  {
   "cell_type": "code",
   "execution_count": null,
   "id": "04483a75-c667-4de0-8f9c-ce239dbd73e2",
   "metadata": {
    "colab": {
     "base_uri": "https://localhost:8080/",
     "height": 53
    },
    "collapsed": false,
    "id": "IsgDi6fCYhR-",
    "outputId": "500ceff5-0657-4182-b0ae-9917d510265d"
   },
   "outputs": [],
   "source": [
    "sp.diff(4*Pi*L/tau**2, L)"
   ]
  },
  {
   "cell_type": "code",
   "execution_count": null,
   "id": "324c9b6b-ff86-4514-bb02-91933bff2b89",
   "metadata": {
    "colab": {
     "base_uri": "https://localhost:8080/",
     "height": 53
    },
    "collapsed": false,
    "id": "1iq7FNi5r-d-",
    "outputId": "3e0f0408-1886-4e88-9157-9fe75aa6a9ed"
   },
   "outputs": [],
   "source": [
    "sp.diff(4*Pi*L/tau**2, Pi)"
   ]
  },
  {
   "cell_type": "code",
   "execution_count": null,
   "id": "33baafb7-21a3-418a-ab0d-3c50a47bc599",
   "metadata": {
    "colab": {
     "base_uri": "https://localhost:8080/",
     "height": 53
    },
    "collapsed": false,
    "id": "8F5G5CwiQrYr",
    "outputId": "ac49bd35-7bbc-4dd7-da6a-5872cefef158"
   },
   "outputs": [],
   "source": [
    "sp.diff(4*Pi*L/tau**2, tau)"
   ]
  },
  {
   "cell_type": "markdown",
   "id": "ede9a6d1-9f52-4c45-8b9b-3369ebdb8c06",
   "metadata": {
    "collapsed": false,
    "id": "RU0rHUebtw_F"
   },
   "source": [
    "Para mas informacion acerca de las capacidades de `Sympy`\n",
    ", no duden en consultar su [documentacion on-line](https://docs.sympy.org/latest/index.html), en donde podran ademas consultar ejemplos y tutoriales de uso aplicados al calculo de integrales, simplificacion de expresiones, etc. "
   ]
  },
  {
   "cell_type": "markdown",
   "id": "f21f4d89-f232-40a3-9f7e-ce6f569f016e",
   "metadata": {
    "collapsed": false
   },
   "source": [
    "# Como aprovechar una expresion calculada simbolicamente para evaluar numericamente\n",
    "\n",
    "A menudo usamos Sympy para calcular las derivadas que van en el calculo de la propagacion de errores. \n",
    "Si las expresiones que resultan de calcular esas derivadas son complejas, resulta util poder evaluarlas\n",
    "sin necesidad de tipearlas nuevamente o utilizar \"copy+paste\" para lograrlo. \n",
    "\n",
    "Aqui debajo les mostramos como, a partir de una expresion simbolica calculada en sympy, obtener \n",
    "una evaluacion numerica de la misma, si le pasamos a Python los valores que deberia asignar a cada\n",
    "parametro. \n",
    "\n",
    "Supongamos que queremos poder evaluar la ultima expresion que calculamos anteriormente,\n",
    "la que involucra la derivada de $g$ respecto de $\\tau$. Recalculémosla pero ahora asignemos el \n",
    "resultado a una variable para poder manipularla sencillamente.\n",
    "\n"
   ]
  },
  {
   "cell_type": "code",
   "execution_count": null,
   "id": "2a1a6226-2dc6-443a-8549-301a61b2cd2e",
   "metadata": {
    "collapsed": false
   },
   "outputs": [],
   "source": [
    "der_g_tau = sp.diff(4*Pi*L/tau**2, tau)"
   ]
  },
  {
   "cell_type": "markdown",
   "id": "a07ac02e-4991-4c40-a7ab-919cf7fc2a28",
   "metadata": {
    "collapsed": false
   },
   "source": [
    "Si queremos evaluar esta derivada **numericamente**, lo que tenemos que hacer es usar \n",
    "la funcion `evalf` (por \"evaluar funcion\") con el argumento `subs={}`. Supongamos que queremos\n",
    "asignar, en nuestra expresion simbolica, los valores 3.14 a $Pi$, 1 a $L$ y 2 a $\\tau$. Esto\n",
    "se logra asi:"
   ]
  },
  {
   "cell_type": "code",
   "execution_count": null,
   "id": "2892b68e-9470-4d39-a723-fd1f626f0fc1",
   "metadata": {
    "collapsed": false
   },
   "outputs": [],
   "source": [
    "der_g_tau_numerica = der_g_tau.evalf(subs={Pi:3.14, L:1, tau:2})"
   ]
  },
  {
   "cell_type": "markdown",
   "id": "00ceb616-a983-4f4d-a5fd-cab09df72e7d",
   "metadata": {
    "collapsed": false
   },
   "source": [
    "e imprimimos su valor numerico:"
   ]
  },
  {
   "cell_type": "code",
   "execution_count": null,
   "id": "de66610f-7705-433d-9783-f399cefb118a",
   "metadata": {
    "collapsed": false
   },
   "outputs": [],
   "source": [
    "print(der_g_tau_numerica)"
   ]
  },
  {
   "cell_type": "markdown",
   "id": "9f8f661d-466c-4f7c-a7a7-4e135fa4e5cb",
   "metadata": {
    "collapsed": false
   },
   "source": [
    "De esta forma completamos el circulo: somos capaces de calcular una expresion simbolica\n",
    "y de evaluarla numericamente. "
   ]
  }
 ],
 "metadata": {
  "colab": {
   "provenance": []
  },
  "kernelspec": {
   "argv": [
    "/Users/pablo/opt/mambaforge/bin/python",
    "-m",
    "ipykernel_launcher",
    "-f",
    "{connection_file}"
   ],
   "display_name": "Python 3 (ipykernel)",
   "env": null,
   "interrupt_mode": "signal",
   "language": "python",
   "metadata": {
    "debugger": true
   },
   "name": "python3"
  },
  "language_info": {
   "name": "python"
  },
  "name": "Sympy_para_propagacion_de_errores.ipynb"
 },
 "nbformat": 4,
 "nbformat_minor": 0
}
