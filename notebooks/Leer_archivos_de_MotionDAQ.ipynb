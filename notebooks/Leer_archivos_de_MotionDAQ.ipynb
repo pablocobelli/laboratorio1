{
  "nbformat": 4,
  "nbformat_minor": 0,
  "metadata": {
    "colab": {
      "provenance": []
    },
    "kernelspec": {
      "name": "python3",
      "display_name": "Python 3"
    },
    "language_info": {
      "name": "python"
    }
  },
  "cells": [
    {
      "cell_type": "markdown",
      "source": [
        "# Leer archivos de MotionDAQ a un array de Numpy\n",
        "----"
      ],
      "metadata": {
        "id": "jYJMwSWKq5fX"
      }
    },
    {
      "cell_type": "markdown",
      "source": [
        "Comenzamos cargando los paquetes habituales para analisis de datos"
      ],
      "metadata": {
        "id": "kZ7Gw0hBuy0C"
      }
    },
    {
      "cell_type": "code",
      "source": [
        "import numpy as np\n",
        "import matplotlib.pyplot as plt\n",
        "%matplotlib inline"
      ],
      "metadata": {
        "id": "2M2cAU6QsDs1"
      },
      "execution_count": 17,
      "outputs": []
    },
    {
      "cell_type": "markdown",
      "source": [
        "La siguiente funcion lee los contenidos (datos) de un archivo exportado desde el programa MotionDAQ (de adquisicion de datos asistida por computadora) y lo transforma en una o varias variables en la forma de arrays de Numpy."
      ],
      "metadata": {
        "id": "KDBCl7Kat6NT"
      }
    },
    {
      "cell_type": "code",
      "source": [
        "def leer_archivo_motion_daq(filename):\n",
        "    import numpy as np\n",
        "    from pandas import read_csv\n",
        "    result = []\n",
        "    # Leer el archivo, separado por tabulaciones, salteando 3 lineas de header\n",
        "    # y empleando la coma como separador decimal\n",
        "    df = read_csv(filename, sep='\\t', skiprows=3, decimal=',')\n",
        "    # Convertir el dataframe de pandas a un array de numpy\n",
        "    nparray = df.to_numpy()\n",
        "    # Remover los posibles nans del archivo (en caso de que existiesen)\n",
        "    nparray = nparray[~np.isnan(nparray).any(axis=1)]\n",
        "    # Asignar cada columna del array a una variable de salida\n",
        "    for cols in range(nparray.shape[1]):\n",
        "        out = nparray[:,cols]\n",
        "        result.append(out)\n",
        "\n",
        "    return result"
      ],
      "metadata": {
        "id": "KtesrZ-Qq7Bl"
      },
      "execution_count": 18,
      "outputs": []
    },
    {
      "cell_type": "markdown",
      "source": [
        "Para utilizarlo, lo que tienen que hacer es:\n",
        "\n",
        "- copiar la definicion anterior a sus notebooks,\n",
        "- subir el archivo de datos que deseen cargar a Google Colab, y\n",
        "- ejecutar la linea de codigo mostrada aqui debajo"
      ],
      "metadata": {
        "id": "XpIqsmBMuGpW"
      }
    },
    {
      "cell_type": "code",
      "source": [
        "ts, ph = leer_archivo_motion_daq('testdata.txt')"
      ],
      "metadata": {
        "id": "8fK3MWKwsIIy"
      },
      "execution_count": 19,
      "outputs": []
    },
    {
      "cell_type": "markdown",
      "source": [
        "En la linea aqui arriba, estamos asumiendo que el archivo de datos tiene como nombre `testdata.txt`, uds. cambien dicho nombre por aquel que hayan asignado a sus datos."
      ],
      "metadata": {
        "id": "XKWr53nzu6-H"
      }
    },
    {
      "cell_type": "markdown",
      "source": [
        "Construimos el plot asociado, solo para verificar que los datos sean lo que esperamos."
      ],
      "metadata": {
        "id": "MtPd94hctDqD"
      }
    },
    {
      "cell_type": "code",
      "source": [
        "plt.figure(figsize=(13,7))\n",
        "plt.plot(ts, ph, '.-')"
      ],
      "metadata": {
        "colab": {
          "base_uri": "https://localhost:8080/",
          "height": 616
        },
        "id": "mzKzEYdVsMMA",
        "outputId": "961054c7-58ed-4e18-cfe0-3d9556c45037"
      },
      "execution_count": 23,
      "outputs": [
        {
          "output_type": "execute_result",
          "data": {
            "text/plain": [
              "[<matplotlib.lines.Line2D at 0x79a2fdca06d0>]"
            ]
          },
          "metadata": {},
          "execution_count": 23
        },
        {
          "output_type": "display_data",
          "data": {
            "text/plain": [
              "<Figure size 1300x700 with 1 Axes>"
            ],
            "image/png": "[encoded data removed]"
          },
          "metadata": {}
        }
      ]
    },
    {
      "cell_type": "markdown",
      "source": [
        "Podemos también visualizar los primeros valores de cada vector y compararlos con los contenidos del archivo de datos exportado desde MotionDAQ, para asegurarnos no perder ninguno:"
      ],
      "metadata": {
        "id": "0xY541GktZJE"
      }
    },
    {
      "cell_type": "code",
      "source": [
        "ts[:10]"
      ],
      "metadata": {
        "colab": {
          "base_uri": "https://localhost:8080/"
        },
        "id": "GeX6BAFRsWB-",
        "outputId": "1e0122fd-676c-444d-e300-ade961f98148"
      },
      "execution_count": 24,
      "outputs": [
        {
          "output_type": "execute_result",
          "data": {
            "text/plain": [
              "array([0.   , 0.002, 0.004, 0.006, 0.008, 0.01 , 0.012, 0.014, 0.016,\n",
              "       0.018])"
            ]
          },
          "metadata": {},
          "execution_count": 24
        }
      ]
    },
    {
      "cell_type": "code",
      "source": [
        "ph[:10]"
      ],
      "metadata": {
        "colab": {
          "base_uri": "https://localhost:8080/"
        },
        "id": "vrWXyX8ltWo4",
        "outputId": "dcc2476f-9ba0-4d35-fd5a-c344a317ca53"
      },
      "execution_count": 25,
      "outputs": [
        {
          "output_type": "execute_result",
          "data": {
            "text/plain": [
              "array([0.5134931, 0.5160031, 0.518513 , 0.518513 , 0.518513 , 0.5235329,\n",
              "       0.5134931, 0.5235329, 0.5134931, 0.5235329])"
            ]
          },
          "metadata": {},
          "execution_count": 25
        }
      ]
    }
  ]
}