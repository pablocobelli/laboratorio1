{
  "nbformat": 4,
  "nbformat_minor": 0,
  "metadata": {
    "colab": {
      "provenance": []
    },
    "kernelspec": {
      "name": "python3",
      "display_name": "Python 3"
    },
    "language_info": {
      "name": "python"
    }
  },
  "cells": [
    {
      "cell_type": "markdown",
      "source": [
        "## Desviacion estandar de la media (error estandar)"
      ],
      "metadata": {
        "id": "VOIEx6cJbRvA"
      }
    },
    {
      "cell_type": "code",
      "source": [
        "import numpy as np\n",
        "import matplotlib.pyplot as plt \n",
        "%matplotlib inline"
      ],
      "metadata": {
        "id": "ilaiatBp9GLM"
      },
      "execution_count": null,
      "outputs": []
    },
    {
      "cell_type": "markdown",
      "source": [
        "Vamos a considerar un experimento consistente en medir $N$ veces una cantidad y reportar el mejor estimado como su promedio, y su dispersion como la desviacion estandar.\n",
        "\n",
        "Ahora repetimos ese experimento muchas ($M$) veces, y nos preguntamos **qué distribucion tendran esos $M$ promedios?**"
      ],
      "metadata": {
        "id": "uVne-Lt4bjdU"
      }
    },
    {
      "cell_type": "code",
      "source": [
        "# numero de mediciones en 1 experimento\n",
        "N = 100 # probemos con 1000 también\n",
        "\n",
        "# numero de veces que realizamos ese experimento consistente en medir N veces\n",
        "M = 10000"
      ],
      "metadata": {
        "id": "zdmm5CyX8ll7"
      },
      "execution_count": null,
      "outputs": []
    },
    {
      "cell_type": "markdown",
      "source": [
        "Simulo una sola experiencia"
      ],
      "metadata": {
        "id": "60QF-iD0dtUO"
      }
    },
    {
      "cell_type": "code",
      "source": [
        "# tomo un solo set de N mediciones y calculo la std\n",
        "x_1muestra = np.random.randn(N)\n",
        "sigma_x = np.std(x_1muestra)"
      ],
      "metadata": {
        "id": "oZr2lqzHds32"
      },
      "execution_count": null,
      "outputs": []
    },
    {
      "cell_type": "markdown",
      "source": [
        "Hago la experiencia simulada:"
      ],
      "metadata": {
        "id": "CDt7lCDlcXp4"
      }
    },
    {
      "cell_type": "code",
      "source": [
        "# Creo un lugar (una variable) con espacio para guardar los M promedios que voy\n",
        "# a calcular al repetir la experiencia\n",
        "Xmedias = np.empty(M)"
      ],
      "metadata": {
        "id": "bH50QVYc8vPY"
      },
      "execution_count": null,
      "outputs": []
    },
    {
      "cell_type": "code",
      "source": [
        "# Repito para los M experimentos\n",
        "# consistentes (cada uno) en medir N veces una cantidad\n",
        "for i in range(M):\n",
        "\n",
        "  # hago N mediciones\n",
        "  datos_1_experimento = np.random.randn(N)\n",
        "\n",
        "  # calculo la media de este conjunto de N mediciones\n",
        "  media_1_experimento = np.mean(datos_1_experimento)\n",
        "\n",
        "  # guardo el valor de esa media para este experimento\n",
        "  Xmedias[i] = media_1_experimento"
      ],
      "metadata": {
        "id": "Lw5hPqwWcoEo"
      },
      "execution_count": null,
      "outputs": []
    },
    {
      "cell_type": "markdown",
      "source": [
        "Ahora calculo la desviacion estandar de la media (también llamado error estandar):"
      ],
      "metadata": {
        "id": "ANEoBwP5d9I9"
      }
    },
    {
      "cell_type": "markdown",
      "source": [
        "$$\n",
        "\\sigma_\\overline{x} = \\frac{\\sigma_x}{\\sqrt{N}}\n",
        "$$"
      ],
      "metadata": {
        "id": "U2M_Nwu7Bjdo"
      }
    },
    {
      "cell_type": "code",
      "source": [
        "sigma_xmedia = sigma_x/np.sqrt(N)"
      ],
      "metadata": {
        "id": "CyS0hBaKd7bI"
      },
      "execution_count": null,
      "outputs": []
    },
    {
      "cell_type": "markdown",
      "source": [
        "Una vez calculado todo, grafico lo obtenido mediante histogramas, con la opcion `density=True` para imponer la normalizacion de nuestro histograma."
      ],
      "metadata": {
        "id": "ypet1Ny8dSVC"
      }
    },
    {
      "cell_type": "code",
      "source": [
        "# Grafico los resultados\n",
        "plt.figure()\n",
        "\n",
        "# el histograma de las X medias\n",
        "plt.hist(Xmedias, bins=100, density=True, label='distribucion de promedios');\n",
        "\n",
        "# agrego etiquetas a los ejes y el grid\n",
        "plt.xlabel(r'$x$ [u.a.]')\n",
        "plt.ylabel(r'$p(x)$')\n",
        "plt.legend()\n",
        "plt.grid(True)"
      ],
      "metadata": {
        "id": "gpOq_6Dg37XD"
      },
      "execution_count": null,
      "outputs": []
    },
    {
      "cell_type": "code",
      "source": [
        "# Grafico los resultados\n",
        "plt.figure()\n",
        "\n",
        "# el histograma de las X medias\n",
        "plt.hist(Xmedias, bins=100, density=True, label=\"distribucion de promedios\", alpha=0.5);\n",
        "\n",
        "# el histograma de 1 sola muestra\n",
        "plt.hist(x_1muestra, bins=15, density=True, label=\"1 medicion\", alpha=0.5);\n",
        "\n",
        "# agrego etiquetas a los ejes y el grid\n",
        "plt.xlabel(r'$x$ [u.a.]')\n",
        "plt.ylabel(r'$p(x)$')\n",
        "plt.legend()\n",
        "plt.grid(True)"
      ],
      "metadata": {
        "id": "MQNVcQCa4dxH"
      },
      "execution_count": null,
      "outputs": []
    },
    {
      "cell_type": "code",
      "source": [
        "# Grafico los resultados\n",
        "plt.figure()\n",
        "\n",
        "# el histograma de las X medias\n",
        "plt.hist(Xmedias, bins=200, density=True, label=\"distribucion de promedios\");\n",
        "\n",
        "# el plot de la distribucion gaussiana con sigma_x\n",
        "x = np.linspace(-3, 3, 1000)\n",
        "plt.plot(x, 1/np.sqrt(2*np.pi)/sigma_x*np.exp(-(x)**2/2/sigma_x**2), 'r', \n",
        "         label='gaussiana c/sigma_x')\n",
        "\n",
        "# el plot de una distribucion gaussiana con sigma_xmedia\n",
        "plt.plot(x, 1/np.sqrt(2*np.pi)/sigma_xmedia*np.exp(-(x)**2/2/sigma_xmedia**2), 'k', \n",
        "         label='gaussiana c/sigma_x_media')\n",
        "\n",
        "# agrego etiquetas a los ejes y el grid\n",
        "plt.xlabel(r'$x$ [u.a.]')\n",
        "plt.ylabel(r'$p(x)$')\n",
        "plt.gca().legend(loc='center left', bbox_to_anchor=(1, 0.5))\n",
        "plt.grid(True)"
      ],
      "metadata": {
        "id": "v02KbtUv9NmX"
      },
      "execution_count": null,
      "outputs": []
    },
    {
      "cell_type": "code",
      "source": [
        "# Grafico los resultados\n",
        "plt.figure()\n",
        "\n",
        "# el histograma de las X medias\n",
        "plt.hist(Xmedias, bins=200, density=True, label=\"distribucion de promedios\");\n",
        "\n",
        "# el plot de la distribucion gaussiana con sigma_x\n",
        "x = np.linspace(-3, 3, 1000)\n",
        "plt.plot(x, 1/np.sqrt(2*np.pi)/sigma_x*np.exp(-(x)**2/2/sigma_x**2), 'r', \n",
        "         label='gaussiana c/sigma_x')\n",
        "\n",
        "# el plot de una distribucion gaussiana con sigma_xmedia\n",
        "plt.plot(x, 1/np.sqrt(2*np.pi)/sigma_xmedia*np.exp(-(x)**2/2/sigma_xmedia**2), 'k', \n",
        "         label='gaussiana c/sigma_x_media')\n",
        "\n",
        "# el histograma de 1 sola muestra\n",
        "plt.hist(x_1muestra, bins=15, density=True, label=\"1 medicion\", alpha=0.5);\n",
        "\n",
        "# agrego etiquetas a los ejes y el grid\n",
        "plt.xlabel(r'$x$ [u.a.]')\n",
        "plt.ylabel(r'$p(x)$')\n",
        "plt.gca().legend(loc='center left', bbox_to_anchor=(1, 0.5))\n",
        "plt.grid(True)"
      ],
      "metadata": {
        "id": "_eNUOfYN5Oq3"
      },
      "execution_count": null,
      "outputs": []
    }
  ]
}