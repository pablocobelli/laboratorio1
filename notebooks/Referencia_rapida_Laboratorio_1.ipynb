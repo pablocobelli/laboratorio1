{
 "cells": [
  {
   "cell_type": "markdown",
   "id": "d10b7a0b-11c9-41b7-9ca3-74a1b651fea1",
   "metadata": {
    "collapsed": false
   },
   "source": [
    "# Referencia rapida de Python y Google Colab para Laboratorio 1"
   ]
  },
  {
   "cell_type": "markdown",
   "id": "563354a3-6dc0-4410-a6e9-02588b122a09",
   "metadata": {
    "collapsed": false
   },
   "source": [
    "## Qué es (y qué no es) este documento?"
   ]
  },
  {
   "cell_type": "markdown",
   "id": "97a80a23-0b27-4887-9b7a-e0967b141497",
   "metadata": {
    "collapsed": false
   },
   "source": [
    "**Lo que SI es:**\n",
    "\n",
    "Este documento esta pensado para ser una referencia rapida de como realizar, en Python,\n",
    "acciones frecuentemente necesarias en el marco del curso de Laboratorio 1.\n",
    "Deseamos que, al menos durante las primeras clases del curso, uds puedan consultar esta\n",
    "referencia y *copiar y pegar* (sin timidez!) codigo desde aqui para ganar practica \n",
    "rapidamente en usar Python. \n",
    "\n",
    "**Lo que NO es:**\n",
    "\n",
    "Este documento *no es* una guia introductoria al uso de Python o de lenguajes de programacion, \n",
    "ni intenta serlo. Para ello hay muchas guias online y muchos libros publicados sobre el tema. \n",
    "Si buscan referencias bibliograficas sobre Python o algo relacionado a él, no duden en consultar\n",
    "a los docentes."
   ]
  },
  {
   "cell_type": "markdown",
   "id": "6ee7f868-a86a-4002-98c2-82f96cff016a",
   "metadata": {
    "collapsed": false
   },
   "source": [
    "# Carga de las librerias necesarias\n",
    "\n",
    "Python dispone de muchas librerias que permiten, cada una de ellas, realizar un conjunto especifico de\n",
    "acciones o procedimientos. Por ejemplo, existe una libreria (también llamado modulo o paquete) \n",
    "para trabajar con datos numericos, denominada `numpy`. De igual forma, existe una gran cantidad de librerias\n",
    "que permiten representar datos graficamente; nosotros usaremos una denominada `matplotlib`. Existen ademas\n",
    "otras librerias avocadas, e.g., al analisis de se~nales cientificas (`scipy`), al procesado de imagenes\n",
    "(`scikit-image`), al calculo simbolico (`sympy`), etc. \n",
    "\n",
    "Para cargar las que utilizaremos nosotros, hacemos lo siguiente:"
   ]
  },
  {
   "cell_type": "code",
   "execution_count": 1,
   "id": "ab940144-a366-437b-9319-360928b163e1",
   "metadata": {
    "collapsed": false
   },
   "outputs": [],
   "source": [
    "# CODIGO PARA CARGAR numpy, LA LIBRERIA PARA TRABAJAR CON DATOS NUMERICOS\n",
    "import numpy as np"
   ]
  },
  {
   "cell_type": "markdown",
   "id": "68e5af39-ac34-4f3a-ba9c-34f6838c236f",
   "metadata": {
    "collapsed": false
   },
   "source": [
    "## Carga de datos al Google Colaboratory:"
   ]
  },
  {
   "cell_type": "markdown",
   "id": "fe36a662-29a5-41e8-a17e-024aeae557a7",
   "metadata": {
    "collapsed": false
   },
   "source": [
    "### Datos a mano ingresados directamente en el Colab en `numpy` arrays"
   ]
  },
  {
   "cell_type": "markdown",
   "id": "7f3c674a-6786-4490-8113-866d4204e3b4",
   "metadata": {
    "collapsed": false
   },
   "source": [
    "Una primera opcion (que usaremos las clases iniciales probablemente) es cargar datos a mano, ingresandolos\n",
    "uno a uno en Python como arrays o conjuntos ordenados de `numpy` y separados por comas. \n",
    "\n",
    "Supongamos que tuviesemos la siguiente lista de datos medidos: 11, 21, 35 y 89, correspondientes\n",
    "-digamos, por dar un ejemplo- a la cantidad de estudiantes en 4 cursos de la facultad.\n",
    "\n",
    "Ingresar nuestros datos en la variable `datos` se hace asi:"
   ]
  },
  {
   "cell_type": "code",
   "execution_count": 3,
   "id": "e39dadde-e2c8-470a-812d-d621ec63a49b",
   "metadata": {
    "collapsed": false
   },
   "outputs": [],
   "source": [
    "# EJEMPLO INGRESO DE DATOS A MANO\n",
    "datos = np.array([11, 21, 35, 89])"
   ]
  },
  {
   "cell_type": "markdown",
   "id": "25ff28bc-ade0-4e2a-b29b-a004cab820ec",
   "metadata": {
    "collapsed": false
   },
   "source": [
    "**Convencion importante:**\n",
    "\n",
    "Usaremos siempre el punto '.' como separador decimal; la coma ',' servira siempre como separador \n",
    "entre datos."
   ]
  },
  {
   "cell_type": "markdown",
   "id": "e0025fa2-c0c1-42f7-83e0-2c79370d6cf9",
   "metadata": {
    "collapsed": false
   },
   "source": [
    "### Datos a mano pero en csv o notepad y luego importarlos al Google Colaboratory\n",
    "\n",
    "Supongamos que tenemos nuestros datos en un archivo tipo \n",
    "[CSV (valores separados por comas)](https://es.wikipedia.org/wiki/Valores_separados_por_comas) en nuestra\n",
    "computadola local (ya sea nuestra computadora personal o una del laboratorio). Para poder utilizarlos en \n",
    "Google Colaboratory, vamos a necesitar subirlos a la nube. Para ello, procedemos de la siguiente manera.\n",
    "\n",
    "1. Primero hacemos click sobre el icono de archivos (files) indicado en la figura.\n",
    "\n",
    "![](./resources/click-on-files-icon.png)\n",
    "\n",
    "2. En la barra lateral que se abre, hacemos click en el icono de `upload`, senalado con una flecha roja\n",
    "en la figura debajo.\n",
    "\n",
    "![](./resources/click-upload-icon.png)\n",
    "\n",
    "3. Elegimos el o los archivos que queremos subir a la nube, y hacemos click en Aceptar u Ok, segun el caso.\n",
    "\n",
    "4. Una vez que el o los archivos se carguen, los veremos en la lista que aparece a la izquierda.\n",
    "En la imagen aqui debajo, podemos verificar que el archivo `datos.csv` ha sido cargado y esta ahora disponible\n",
    "para ser utilizado desde la notebook de Python de Google Colab.\n",
    "\n",
    "![](./resources/datafile-available.png)\n",
    "\n",
    "5. El ultimo paso consiste en importar los datos a una variable. Esto se logra con la linea de codigo:"
   ]
  },
  {
   "cell_type": "code",
   "execution_count": null,
   "id": "39adbc8c-fb14-4534-b4dd-f866112df077",
   "metadata": {
    "collapsed": false
   },
   "outputs": [],
   "source": [
    "# IMPORTAR DATOS EN CSV\n",
    "datos = np.loadtxt(\"datos.csv\", delimiter=\",\")"
   ]
  },
  {
   "cell_type": "markdown",
   "id": "65c68a92-2710-49a0-a18c-966f6459d774",
   "metadata": {
    "collapsed": false
   },
   "source": [
    "## Visualizar datos graficamente"
   ]
  },
  {
   "cell_type": "markdown",
   "id": "80dfd453-b338-4ebd-86bc-048ac9fe2331",
   "metadata": {
    "collapsed": false
   },
   "source": [
    "### Matplotlib\n",
    "\n",
    "En tanto herramientas de representacion visual de datos, Python cuenta con un gran ecosistema de *modulos*\n",
    "entre los cuales elegir. De hecho, el siguiente diagrama ilustra la gran cantidad de paquetes graficos de los\n",
    "que dispone Python para representar datos cientificos:\n",
    "\n",
    "![](https://github.com/rougier/python-visualization-landscape/raw/master/landscape-colors.png)\n",
    "\n",
    "En el diagrama, cada modulo esta representado con su nombre en un globo de color. Aquellos paquetes que tengan\n",
    "la posibilidad de compartir métodos con otro(s), estan conectados por lineas rectas. Este diagrama se conoce como\n",
    "el **Python visualization landscape** y nos da una idea de la gran variedad y especificidad de la que disponemos\n",
    "al utilizarlo para visualizar datos cientificos.\n",
    "\n",
    "Entre las librerias graficas mas utilizadas (si ustedes quisieran explorarlas), podemos listar:\n",
    "[matplotlib](http://matplotlib.org), [bokeh](http://bokeh.org), [vega-altair](https://altair-viz.github.io), \n",
    "[plotly](http://plotly.org), [holoviews](http://holoviews.org), entre muchas otras. Todas ellas cubren ampliamente\n",
    "las necesidades de este curso.\n",
    "\n",
    "Nosotros vamos a utilizar la mas difundida y la que viene incluida por defecto\n",
    "en las distribuciones de Python mas populares: [matplotlib](http://matplotlib.org). En esta eleccion nos motiva la facilidad de uso y la disponibilidad\n",
    "de documentacion on- y off-line sobre como utilizarla. \n",
    "\n",
    "Las proximas secciones contienen codigos basicos que permitiran construir las visualizaciones que usaremos en el\n",
    "curso. \n"
   ]
  },
  {
   "cell_type": "markdown",
   "id": "680b5f99-9c3c-4111-abca-d47a08a69171",
   "metadata": {
    "collapsed": false
   },
   "source": [
    "### Como cargar la libreria matplotlib"
   ]
  },
  {
   "cell_type": "markdown",
   "id": "3cf79a51",
   "metadata": {
    "collapsed": false
   },
   "source": [
    "Para cargar `matplotlib`, simplemente hacemos:"
   ]
  },
  {
   "cell_type": "code",
   "execution_count": 5,
   "id": "3b6eee47-b906-4b69-b728-00ef10c24edd",
   "metadata": {
    "collapsed": false
   },
   "outputs": [],
   "source": [
    "import matplotlib.pyplot as plt"
   ]
  },
  {
   "cell_type": "markdown",
   "id": "77d6fa9d-379f-40af-bba2-e08c137207dd",
   "metadata": {
    "collapsed": false
   },
   "source": [
    "En el caso de estar trabajando en `Google Colab`, es recomendable agregar la siguiente linea \n",
    "de codigo a nuestras notebooks:"
   ]
  },
  {
   "cell_type": "code",
   "execution_count": 1,
   "id": "9dae9c29-64f9-42f2-9f52-5cba70dd9ae5",
   "metadata": {
    "collapsed": false
   },
   "outputs": [],
   "source": [
    "%matplotlib inline"
   ]
  },
  {
   "cell_type": "markdown",
   "id": "0125a2c2-779f-4ffa-a07d-ce772496bf2d",
   "metadata": {
    "collapsed": false
   },
   "source": [
    "que sirve para indicarle al modulo de representacion grafica `matplotlib` que deseamos ver los\n",
    "graficos que él genere, directamente presentados en la notebook al pie de las lineas de codigo\n",
    "asociadas. "
   ]
  },
  {
   "cell_type": "markdown",
   "id": "15ff7146-3aa8-4903-9817-53d2b0a5583c",
   "metadata": {
    "collapsed": false
   },
   "source": [
    "### Como graficar un histograma\n",
    "\n",
    "Para esta demo, necesitamos datos que graficar. La siguiente linea crea un conjunto de 100 datos\n",
    "cuyos valores estan determinados al azar, para usar como ejemplo."
   ]
  },
  {
   "cell_type": "code",
   "execution_count": 7,
   "id": "fb36317c-7aa7-401c-9451-c7dee31ee469",
   "metadata": {
    "collapsed": false
   },
   "outputs": [],
   "source": [
    "# nuestro set de datos creados al azar para la demo\n",
    "datos = np.random.randn(1000)"
   ]
  },
  {
   "cell_type": "markdown",
   "id": "2997d8ea-cd65-4a22-a2aa-2f6b7c81074c",
   "metadata": {
    "collapsed": false
   },
   "source": [
    "Ahora lo graficamos, con las siguientes lineas de codigo:\n"
   ]
  },
  {
   "cell_type": "code",
   "execution_count": 9,
   "id": "0cae54b2-b1a7-4649-93ae-aa58b47700f1",
   "metadata": {
    "collapsed": false
   },
   "outputs": [
    {
     "data": {
      "image/png": "[encoded data removed]",
      "text/plain": [
       "<Figure size 432x288 with 1 Axes>"
      ]
     },
     "metadata": {
      "needs_background": "light"
     },
     "output_type": "display_data"
    }
   ],
   "source": [
    "# CODIGO DE BASE PARA GRAFICAR HISTOGRAMAS\n",
    "plt.figure()\n",
    "plt.hist(datos, bins=14)\n",
    "plt.xlabel('dato [unidades]')\n",
    "plt.ylabel('numero de ocurrencias')\n",
    "plt.grid(True)\n",
    "plt.show()"
   ]
  },
  {
   "cell_type": "markdown",
   "id": "af1b5c97-c5ac-4ea7-aa8e-532b0436aba8",
   "metadata": {
    "collapsed": false
   },
   "source": [
    "Cada una de las lineas de codigo anteriores a la figura hacen lo siguiente:\n",
    "\n",
    "Las siguientes lineas hacen, cada una de ellas, las siguientes\n",
    "operaciones:\n",
    "- la primera linea es un comentario solo para nosotros, Python no hace nada con él\n",
    "- crea la figura (vacia inicialmente)\n",
    "- construye el histograma de nuestra variable 'datos', usando 14 bines para ello\n",
    "- le pone titulo al eje horizontal\n",
    "- le pone titulo al eje vertical\n",
    "- incluye la grilla para mejor guia visual\n",
    "- le dice a matplotlib que muestre el grafico en pantalla"
   ]
  },
  {
   "cell_type": "markdown",
   "id": "9df33df2-c04c-4c04-b3fc-8d4f1ad65905",
   "metadata": {
    "collapsed": false
   },
   "source": [
    "### Como graficar una serie de datos"
   ]
  },
  {
   "cell_type": "markdown",
   "id": "5893d8ad-4d42-4846-9972-a7bd42399cd9",
   "metadata": {
    "collapsed": false
   },
   "source": [
    "Supongamos que tomamos asistencia en un curso a lo largo de 10 clases, y obtenemos\n",
    "la siguiente lista, que representa cuantos estudiantes asistieron cada clase (en orden):\n",
    "\n",
    "Numero de clase || Numero de estudiantes presentes\n",
    ":--------------:||:------------------------------:\n",
    "1               ||  12\n",
    "2               ||  14\n",
    "3               ||  13\n",
    "4               ||  10\n",
    "5               ||  13\n",
    "6               ||  13\n",
    "7               ||  5\n",
    "8               ||  10\n",
    "9               ||  12\n",
    "10              ||  13\n",
    "\n",
    "\n",
    "\n",
    "\n",
    "\n",
    "Y queremos representar graficamente este conjunto de datos. Primeramente, debemos\n",
    "ingresar ambos sets de datos, cosa que ya sabemos hacer:"
   ]
  },
  {
   "cell_type": "code",
   "execution_count": 12,
   "id": "28211282-9dbb-43c3-a0ab-743f436e5a5b",
   "metadata": {
    "collapsed": false
   },
   "outputs": [],
   "source": [
    "clase = np.array([1, 2, 3, 4, 5, 6, 7, 8, 9, 10])\n",
    "\n",
    "presentes = np.array([12, 14, 13, 10, 13, 13, 5, 10, 12, 13])"
   ]
  },
  {
   "cell_type": "markdown",
   "id": "f5790396-9382-408c-82cb-0cc5acdd8111",
   "metadata": {
    "collapsed": false
   },
   "source": [
    "Como representamos graficamente estas dos series de datos?\n",
    "\n",
    "La forma de hacerlo consiste en representar el par ordenado \"(dia, clase)\" en un set de\n",
    "ejes cartesianos, donde el eje horizontal indique el numero de clase y el eje vertical \n",
    "represente el numero de estudiantes presentes en cada clase. Eso se hace de la siguiente\n",
    "forma:"
   ]
  },
  {
   "cell_type": "code",
   "execution_count": 20,
   "id": "9ed8f4f3-d9d9-4203-82a9-6e75d27d0905",
   "metadata": {
    "collapsed": false
   },
   "outputs": [
    {
     "data": {
      "image/png": "[encoded data removed]",
      "text/plain": [
       "<Figure size 432x288 with 1 Axes>"
      ]
     },
     "metadata": {
      "needs_background": "light"
     },
     "output_type": "display_data"
    }
   ],
   "source": [
    "# CODIGO DE BASE PARA GRAFICAR SERIES DE DATOS\n",
    "plt.figure()\n",
    "plt.plot(clase, presentes, marker=\"o\", color=\"blue\")\n",
    "plt.xlabel('clase')\n",
    "plt.ylabel('numero de estudiantes presentes')\n",
    "plt.grid(True)\n",
    "plt.show()"
   ]
  },
  {
   "cell_type": "markdown",
   "id": "2686cc66-cd1c-459f-a9e8-b02728f0c667",
   "metadata": {
    "collapsed": false
   },
   "source": [
    "Cada una de las lineas de codigo anteriores a la figura hacen lo siguiente:\n",
    "\n",
    "- la primera linea es un comentario solo para nosotros, Python no hace nada con él\n",
    "- crea la figura (vacia inicialmente)\n",
    "- construye el grafico (plot), poniendo:\n",
    "  - el contenido de la variable \"clase\" en la coordenada x (u horizontal)\n",
    "  - el contenido de la variable \"presentes\" en la coordenada y (o vertical)\n",
    "  - usando un simbolo \"o\" (circulo relleno) para denotar nuestros datos\n",
    "  - empleando el color azul (blue) para su representacion\n",
    "  - (ademas `matplotlib` nos esta agregando lineas entre puntos, despues veremos \n",
    "  cuando conviene usarlas y cuando no, y como removerlas si es necesario)\n",
    "- le pone titulo al eje horizontal\n",
    "- le pone titulo al eje vertical\n",
    "- incluye la grilla para mejor guia visual\n",
    "- le dice a matplotlib que muestre el grafico en pantalla"
   ]
  },
  {
   "cell_type": "markdown",
   "id": "f63dabb1-d7c5-46ac-88e0-cbf7476ef750",
   "metadata": {
    "collapsed": false
   },
   "source": [
    "## Analisis de datos:\n",
    "\n",
    "Python dispone de una gran cantidad de librerias (también llamados modulos o paquetes) para realizar analisis\n",
    "de datos orientado a ciencia. Algunos que podemos mencionar son: [numpy](http://www.numpy.org),\n",
    "[scipy](http://scipy.org), [scikit-image](http://scikit-image.org), [pandas](http://pandas.pydata.org), entre otros.\n",
    "\n",
    "Nosotros vamos a utilizar desde el primer dia [numpy](http://numpy.org), y en adelante vamos a ir incorporando \n",
    "alguna otra libreria segun sea necesario. "
   ]
  },
  {
   "cell_type": "markdown",
   "id": "c65778e6-874d-46e5-a292-2e2434f0205a",
   "metadata": {
    "collapsed": false
   },
   "source": [
    "### Arrays \n",
    "\n",
    "Un array es un conjunto de datos numericos, pudiendo ser enteros, reales, irracionales, etc. Vamos a ver como \n",
    "crearlos y utilizarlos, "
   ]
  },
  {
   "cell_type": "markdown",
   "id": "6322785d",
   "metadata": {
    "collapsed": false
   },
   "source": [
    "#### Creacion de un array de datos\n",
    "\n",
    "Crear un set de datos es tan facil como ingresar los datos. Supongamos que mis datos son 5 resultados de mediciones\n",
    "individuales: {34, 45, 33, 43}. Ingresarlos en la variable `datos` es sencillo:"
   ]
  },
  {
   "cell_type": "code",
   "execution_count": null,
   "id": "85270be1-38a5-4874-9bf0-766d55c49239",
   "metadata": {
    "collapsed": false
   },
   "outputs": [],
   "source": [
    "datos = np.array([34, 45, 33, 43])"
   ]
  },
  {
   "cell_type": "markdown",
   "id": "b74a089a",
   "metadata": {
    "collapsed": false
   },
   "source": [
    "#### Agregado de puntos a un array\n",
    "\n",
    "A un array ya existente le podemos agregar mas datos, *concatenando* dos conjuntos de datos: el original y el listado de agregados. Eso se hace facilmente. Supongamos que tenemos estos datos"
   ]
  },
  {
   "cell_type": "code",
   "execution_count": 2,
   "id": "519abdb6",
   "metadata": {
    "collapsed": false
   },
   "outputs": [],
   "source": [
    "datos_originales = np.array([10, 22, 21, 43, 23])"
   ]
  },
  {
   "cell_type": "markdown",
   "id": "ada83fd3",
   "metadata": {
    "collapsed": false
   },
   "source": [
    "y queremos agregarle a esta lista de datos, estos que acabamos de medir: {5, 4, 10}. Eso lo hariamos asi:"
   ]
  },
  {
   "cell_type": "code",
   "execution_count": 4,
   "id": "cb44b711",
   "metadata": {
    "collapsed": false
   },
   "outputs": [],
   "source": [
    "datos_nuevos = np.concatenate((datos_originales, [5, 4, 10]))"
   ]
  },
  {
   "cell_type": "markdown",
   "id": "ebcd29a5",
   "metadata": {
    "collapsed": false
   },
   "source": [
    "Veamos entonces lo como esta conformado nuestro array `datos_nuevos`, para chequear que tenemos los datos originales y también los agregados:"
   ]
  },
  {
   "cell_type": "code",
   "execution_count": 5,
   "id": "760c73c4",
   "metadata": {
    "collapsed": false
   },
   "outputs": [
    {
     "name": "stdout",
     "output_type": "stream",
     "text": [
      "[10 22 21 43 23  5  4 10]\n"
     ]
    }
   ],
   "source": [
    "print(datos_nuevos)"
   ]
  },
  {
   "cell_type": "markdown",
   "id": "6c8a0724-231f-4614-9cda-d28f994b1623",
   "metadata": {
    "collapsed": false
   },
   "source": [
    "#### Seleccionar una porcion de datos de un array"
   ]
  },
  {
   "cell_type": "markdown",
   "id": "24370e99-2bec-41a9-b5b2-778923933e3b",
   "metadata": {
    "collapsed": false
   },
   "source": [
    "Supongamos que del conjunto `datos_nuevos` quisieramos seleccionar todos sus datos con excepcion del primer elemento. Eso se hace asi:"
   ]
  },
  {
   "cell_type": "code",
   "execution_count": 8,
   "id": "11cdffa9",
   "metadata": {
    "collapsed": false
   },
   "outputs": [
    {
     "data": {
      "text/plain": [
       "array([22, 21, 43, 23,  5,  4, 10])"
      ]
     },
     "execution_count": 8,
     "metadata": {},
     "output_type": "execute_result"
    }
   ],
   "source": [
    "datos_nuevos[1:]"
   ]
  },
  {
   "cell_type": "markdown",
   "id": "7408bc9e-0b2b-4c4a-ab00-656107e44ab4",
   "metadata": {
    "collapsed": false
   },
   "source": [
    "Notemos que Python cuenta los elementos de un array desde el cero!"
   ]
  },
  {
   "cell_type": "markdown",
   "id": "7313f704",
   "metadata": {
    "collapsed": false
   },
   "source": [
    "#### Como saber cuantos elementos tiene un array\n",
    "\n",
    "Supongamos que queremos saber cuantos elementos tiene un set de datos. Para eso hacemos:"
   ]
  },
  {
   "cell_type": "code",
   "execution_count": 6,
   "id": "4749bcfc",
   "metadata": {
    "collapsed": false
   },
   "outputs": [
    {
     "data": {
      "text/plain": [
       "8"
      ]
     },
     "execution_count": 6,
     "metadata": {},
     "output_type": "execute_result"
    }
   ],
   "source": [
    "len(datos_nuevos)"
   ]
  },
  {
   "cell_type": "markdown",
   "id": "988fe21a",
   "metadata": {
    "collapsed": false
   },
   "source": [
    "que nos devuelve \"8\" como la cantidad de elementos que tiene ese conjunto (array). "
   ]
  },
  {
   "cell_type": "markdown",
   "id": "f8a250eb-0b41-4eee-b2c0-3e8212083f0e",
   "metadata": {
    "collapsed": false
   },
   "source": [
    "### Operaciones de estadistica descriptiva: promedio, desviacion estandar\n",
    "\n",
    "A un array de datos podemos calcularle su promedio y su desviacion estandar de manera directa. Los\n",
    "comandos en `numpy` son, respectivamente, `mean` y `std`. Los usamos de la siguiente manera:"
   ]
  },
  {
   "cell_type": "code",
   "execution_count": null,
   "id": "a001a4b9-6cf5-47d9-9127-5d7aff7e2ea9",
   "metadata": {
    "collapsed": false
   },
   "outputs": [],
   "source": [
    "np.mean(datos_nuevos)"
   ]
  },
  {
   "cell_type": "code",
   "execution_count": null,
   "id": "7a937f0f-3cb8-44fc-b265-3afada8205eb",
   "metadata": {
    "collapsed": false
   },
   "outputs": [],
   "source": [
    "np.std(datos_nuevos)"
   ]
  },
  {
   "cell_type": "markdown",
   "id": "eee87f9c-c07f-4ed5-80e4-302c2c39ab7b",
   "metadata": {
    "collapsed": false
   },
   "source": [
    "Otras operaciones estadisticas avanzadas las iremos comentando conforme avancemos en el \n",
    "curso. "
   ]
  }
 ],
 "metadata": {
  "kernelspec": {
   "argv": [
    "/Users/pablo/opt/mambaforge/bin/python",
    "-m",
    "ipykernel_launcher",
    "-f",
    "{connection_file}"
   ],
   "display_name": "Python 3 (ipykernel)",
   "env": null,
   "interrupt_mode": "signal",
   "language": "python",
   "metadata": {
    "debugger": true
   },
   "name": "python3"
  },
  "language_info": {
   "codemirror_mode": {
    "name": "ipython",
    "version": 3
   },
   "file_extension": ".py",
   "mimetype": "text/x-python",
   "name": "python",
   "nbconvert_exporter": "python",
   "pygments_lexer": "ipython3",
   "version": "3.9.16"
  },
  "name": "Referencia_rapida_Laboratorio_1.ipynb"
 },
 "nbformat": 4,
 "nbformat_minor": 5
}
